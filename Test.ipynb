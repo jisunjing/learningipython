{
 "metadata": {
  "name": "",
  "signature": "sha256:955da143bc55c49798bfd0a9a7374290b88352402e9ca17e9ff7294404c7a75d"
 },
 "nbformat": 3,
 "nbformat_minor": 0,
 "worksheets": [
  {
   "cells": [
    {
     "cell_type": "heading",
     "level": 1,
     "metadata": {},
     "source": [
      "Title"
     ]
    },
    {
     "cell_type": "markdown",
     "metadata": {},
     "source": [
      "Generate some random data and plot it as a histogram."
     ]
    },
    {
     "cell_type": "code",
     "collapsed": false,
     "input": [
      "import numpy as np\n",
      "import matplotlib.pyplot as plt\n",
      "%matplotlib inline"
     ],
     "language": "python",
     "metadata": {},
     "outputs": [],
     "prompt_number": 2
    },
    {
     "cell_type": "code",
     "collapsed": false,
     "input": [
      "data = np.random.normal(5.0, 15.0, 100) # 100 random draws from a Normal distribution \n",
      "                                        # centered at 5 with standard deviation 15\n",
      "data"
     ],
     "language": "python",
     "metadata": {},
     "outputs": [
      {
       "metadata": {},
       "output_type": "pyout",
       "prompt_number": 4,
       "text": [
        "array([  1.21014308e+01,   1.90480150e+01,   2.26525963e+01,\n",
        "        -5.29188644e+00,  -1.05662159e+01,  -2.46706047e+00,\n",
        "         2.27029481e+00,   2.92820296e+01,  -2.93333967e-01,\n",
        "        -4.20666784e+01,  -5.61956947e+00,   3.78040537e+01,\n",
        "        -4.82497666e-02,   2.72647359e+01,   2.31242507e+01,\n",
        "         7.57949543e+00,   5.74796587e+00,   1.96575739e+01,\n",
        "         1.34424034e+00,  -8.38717306e+00,   6.52189795e+00,\n",
        "         8.82783313e+00,   1.70427290e+01,   4.86454602e+00,\n",
        "         1.47434094e+01,  -2.05482255e+00,   1.30436139e+00,\n",
        "         1.57994471e+01,   9.11356193e+00,   1.95937099e+00,\n",
        "         6.29612109e+00,  -1.19024441e+01,  -1.38836875e+01,\n",
        "         7.57638525e+00,   9.51904225e+00,   6.47880199e+00,\n",
        "         4.55854719e+01,   1.98169077e+01,   4.65398989e+00,\n",
        "         1.80221137e+01,   2.23653350e+01,  -2.88156386e+00,\n",
        "        -8.71417510e+00,   1.84751246e+00,  -2.07855669e+00,\n",
        "        -2.06444487e+01,   2.44499414e+01,   1.79293507e+01,\n",
        "        -1.50996616e+01,  -2.51272293e+01,   2.01238684e+01,\n",
        "        -7.74695582e+00,  -1.66541819e+00,   9.67177517e+00,\n",
        "         6.64257292e+00,   2.55117252e+01,  -8.06161920e+00,\n",
        "        -1.95231310e+01,  -3.50126143e+00,   2.63926343e+01,\n",
        "         2.90661536e+00,   2.36427049e+00,  -1.35428526e+01,\n",
        "        -2.56537444e+01,  -8.90080685e-01,  -4.59908982e+00,\n",
        "         5.15692314e+00,   9.62017216e+00,   1.24054243e+01,\n",
        "         9.92027470e+00,   5.51691792e+01,   1.22973680e+01,\n",
        "        -2.02236708e+01,   5.08245857e+00,  -8.13860085e-01,\n",
        "         2.98885566e+00,   1.93963099e+01,   9.27220206e+00,\n",
        "         1.44245882e+01,  -2.95556832e+00,   2.60577580e-01,\n",
        "         3.76115759e+01,   3.06011603e+01,   1.11027513e+01,\n",
        "         2.14416545e+01,  -3.73738599e+00,   7.98139874e+00,\n",
        "        -1.70364094e+01,  -9.29441972e+00,   2.45532526e+01,\n",
        "        -5.41423477e+00,   4.05603689e+01,  -9.56798456e-01,\n",
        "         4.33187684e+00,   1.58119889e+01,  -7.88237267e+00,\n",
        "        -1.30169817e+01,   3.71532021e+01,   1.79982839e+01,\n",
        "         1.29271389e+01])"
       ]
      }
     ],
     "prompt_number": 4
    },
    {
     "cell_type": "code",
     "collapsed": false,
     "input": [
      "plt.hist(data, bins=15)"
     ],
     "language": "python",
     "metadata": {},
     "outputs": [
      {
       "metadata": {},
       "output_type": "pyout",
       "prompt_number": 7,
       "text": [
        "(array([  1.,   0.,   2.,   4.,   6.,  12.,  20.,  19.,  10.,  12.,   6.,\n",
        "          2.,   4.,   1.,   1.]),\n",
        " array([-42.06667836, -35.58428786, -29.10189736, -22.61950686,\n",
        "        -16.13711636,  -9.65472585,  -3.17233535,   3.31005515,\n",
        "          9.79244565,  16.27483615,  22.75722666,  29.23961716,\n",
        "         35.72200766,  42.20439816,  48.68678866,  55.16917917]),\n",
        " <a list of 15 Patch objects>)"
       ]
      },
      {
       "metadata": {},
       "output_type": "display_data",
       "png": "[encoded data removed]",
       "text": [
        "<matplotlib.figure.Figure at 0x106ed8c90>"
       ]
      }
     ],
     "prompt_number": 7
    },
    {
     "cell_type": "heading",
     "level": 2,
     "metadata": {},
     "source": [
      "Making Noise"
     ]
    },
    {
     "cell_type": "markdown",
     "metadata": {},
     "source": [
      "For speech experiments, stimuli are commonly sampled at 8kHz or 16kHz with 16-bit samples. 8 and 16 kHz are sampling rates. According to the Nyquist theorem, the highest frequency that can be encoded digitally is 1/2 of the sampling rate. So for 8kHz, the hight possible frequency is 4kHz, which is high enough to capture the first and second formants for most speakers. Telephone speech is commonly sampled at 8kHz. For higher quality speech, 16kHz usually suffices. CDs are sampled at 44.1kHz to allow for the entire audible spectrum (20 - 20kHz). 16-bit samples mean that the value of each digital sample is encoded using 16 bits, (-2^15 to 2^15 for signed integers).\n",
      "\n",
      "To create a 8kHz 16-bit sound file of white noise, we will use numpy to create the samples and scipy to save them to a wav file."
     ]
    },
    {
     "cell_type": "code",
     "collapsed": false,
     "input": [
      "import scipy.io.wavfile\n",
      "\n",
      "t = 2 #2 seconds\n",
      "sampling_rate = 8000 \n",
      "scale = 0.3\n",
      "sound = np.random.randint(-2**15, 2**15, t*sampling_rate) # draw uniformly from the entire range of 16 bit signed integers\n",
      "sound = np.round(sound * scale).astype(np.int16) # scale the samples to 0.3 of the possible range\n",
      "sound\n",
      "plt.plot(np.linspace(0, t, t*sampling_rate), sound)\n",
      "plt.ylim(-2**15, 2**15)"
     ],
     "language": "python",
     "metadata": {},
     "outputs": [
      {
       "metadata": {},
       "output_type": "pyout",
       "prompt_number": 34,
       "text": [
        "(-32768, 32768)"
       ]
      },
      {
       "metadata": {},
       "output_type": "display_data",
       "png": "[encoded data removed]",
       "text": [
        "<matplotlib.figure.Figure at 0x108138ad0>"
       ]
      }
     ],
     "prompt_number": 34
    },
    {
     "cell_type": "code",
     "collapsed": false,
     "input": [
      "scipy.io.wavfile.write('noise.wav', sampling_rate, sound)"
     ],
     "language": "python",
     "metadata": {},
     "outputs": [],
     "prompt_number": 30
    },
    {
     "cell_type": "markdown",
     "metadata": {},
     "source": [
      "Calculate the Root Mean Square (RMS) Amplitude of the noise."
     ]
    },
    {
     "cell_type": "code",
     "collapsed": false,
     "input": [
      "rms_amp = np.sqrt(np.mean(np.square(sound.astype(np.int32)))) # 16 bit integers have to be converted to 32 when squaring to \n",
      "                                                              # avoid overflow\n",
      "amp_ratio = rms_amp / 2**15\n",
      "decibels = 20*np.log10(amp_ratio) # decibels calculated with reference amplitude 1.0, i.e. full signal, therefore max is 0 dB\n",
      "print \"amplitude ratio: %.4f, decibels: %.4f\" %(amp_ratio, decibels)"
     ],
     "language": "python",
     "metadata": {},
     "outputs": [
      {
       "output_type": "stream",
       "stream": "stdout",
       "text": [
        "amplitude ratio: 0.1731, decibels: -15.2359\n"
       ]
      }
     ],
     "prompt_number": 31
    }
   ],
   "metadata": {}
  }
 ]
}